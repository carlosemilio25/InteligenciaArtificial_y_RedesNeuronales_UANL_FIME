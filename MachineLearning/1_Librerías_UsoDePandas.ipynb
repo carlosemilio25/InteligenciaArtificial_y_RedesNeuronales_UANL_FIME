{
  "nbformat": 4,
  "nbformat_minor": 0,
  "metadata": {
    "colab": {
      "provenance": [],
      "authorship_tag": "ABX9TyN7t+fAPcLzH2F6GRYz9CDi",
      "include_colab_link": true
    },
    "kernelspec": {
      "name": "python3",
      "display_name": "Python 3"
    },
    "language_info": {
      "name": "python"
    }
  },
  "cells": [
    {
      "cell_type": "markdown",
      "metadata": {
        "id": "view-in-github",
        "colab_type": "text"
      },
      "source": [
        "<a href=\"https://colab.research.google.com/github/dilp90/InteligenciaArtificial_y_RedesNeuronales_UANL_FIME/blob/main/UsoDePandas.ipynb\" target=\"_parent\"><img src=\"https://colab.research.google.com/assets/colab-badge.svg\" alt=\"Open In Colab\"/></a>"
      ]
    },
    {
      "cell_type": "markdown",
      "source": [
        "# **Tutorial para librería Pandas**\n",
        "Pandas es una herramienta de análisis y manipulación de datos de código abierto rápida, potente, flexible y fácil de usar, construida sobre el lenguaje de programación Python.\n",
        "\n",
        "Página oficial: https://pandas.pydata.org/"
      ],
      "metadata": {
        "id": "j6u__pH_Tdh1"
      }
    },
    {
      "cell_type": "markdown",
      "source": [
        "**Ejercicio**:\n",
        "\n",
        "Análisis de Datos de Propiedades Inmobiliarias.\n",
        "\n",
        "**Objetivo**:\n",
        "\n",
        "Este ejercicio te ayudará a practicar operaciones comunes de Pandas como la carga de datos, la limpieza, la manipulación y el análisis exploratorio, herramientas fundamentales para la inteligencia artificial.\n",
        "\n",
        "**Datos**:\n",
        "\n",
        "Conjunto de datos de propiedades inmobiliarias con los siguientes atributos:\n",
        "\n",
        "*   **Precio**: El precio de la propiedad.\n",
        "*   **Tamaño (m²)**: El tamaño de la propiedad en metros cuadrados.\n",
        "*   **Número de habitaciones**: El número de habitaciones de la propiedad.\n",
        "*   **Año de construcción**: El año en que se construyó la propiedad.\n",
        "*   **Tipo de propiedad**: El tipo de propiedad (e.g., \"Casa\", \"Apartamento\").\n",
        "*   **Ubicación**: La ciudad o región donde está ubicada la propiedad."
      ],
      "metadata": {
        "id": "Lm3u0WNKUJi6"
      }
    },
    {
      "cell_type": "code",
      "execution_count": 16,
      "metadata": {
        "id": "GEDboIo2TZpk"
      },
      "outputs": [],
      "source": [
        "# Cargar librerías\n",
        "import pandas as pd\n",
        "import matplotlib.pyplot as plt"
      ]
    },
    {
      "cell_type": "markdown",
      "source": [
        "1. Cargar datos"
      ],
      "metadata": {
        "id": "LuEjHeM4L9j-"
      }
    },
    {
      "cell_type": "code",
      "source": [
        "# Fuente: https://github.com/PacktPublishing/Programming-for-Statistics-and-Data-Science/blob/master/real_estate.csv\n",
        "# Cargar datos desde un archivo CSV\n",
        "df = pd.read_csv('/content/real_estate.csv')"
      ],
      "metadata": {
        "id": "ieztRCzCaFB6"
      },
      "execution_count": 2,
      "outputs": []
    },
    {
      "cell_type": "markdown",
      "source": [
        "2. Exlporar dataframe"
      ],
      "metadata": {
        "id": "GZARC-anMAdH"
      }
    },
    {
      "cell_type": "code",
      "source": [
        "# Muestra las primeras 10 líneas de datos.\n",
        "print(df.head(5))"
      ],
      "metadata": {
        "colab": {
          "base_uri": "https://localhost:8080/"
        },
        "id": "WK0fwlPaMDV5",
        "outputId": "50c8f2c3-056c-4da9-9d94-347034d56e14"
      },
      "execution_count": 4,
      "outputs": [
        {
          "output_type": "stream",
          "name": "stdout",
          "text": [
            "     ID  Building Type  Year of sale  Month of sale Type of property  \\\n",
            "0  1030              1        2005.0           11.0        Apartment   \n",
            "1  1029              1        2005.0           10.0        Apartment   \n",
            "2  2002              2        2007.0            7.0        Apartment   \n",
            "3  2031              2        2007.0           12.0        Apartment   \n",
            "4  1049              1        2004.0           11.0        Apartment   \n",
            "\n",
            "   Property #  Area (ft.)      Price  Status  \n",
            "0          30      743.09  246.17268   Sold   \n",
            "1          29      756.21  246.33190   Sold   \n",
            "2           2      587.28  209.28091   Sold   \n",
            "3          31     1604.75  452.66701   Sold   \n",
            "4          49     1375.45  467.08331   Sold   \n"
          ]
        }
      ]
    },
    {
      "cell_type": "code",
      "source": [
        "# Obtén información sobre las columnas y el tipo de datos de cada una.\n",
        "print(df.info())"
      ],
      "metadata": {
        "colab": {
          "base_uri": "https://localhost:8080/"
        },
        "id": "nhGb5RIuMUGd",
        "outputId": "42c1fe93-cbb2-4bde-ef5e-f1cd0b041103"
      },
      "execution_count": 5,
      "outputs": [
        {
          "output_type": "stream",
          "name": "stdout",
          "text": [
            "<class 'pandas.core.frame.DataFrame'>\n",
            "RangeIndex: 267 entries, 0 to 266\n",
            "Data columns (total 9 columns):\n",
            " #   Column            Non-Null Count  Dtype  \n",
            "---  ------            --------------  -----  \n",
            " 0   ID                267 non-null    int64  \n",
            " 1   Building Type     267 non-null    int64  \n",
            " 2   Year of sale      195 non-null    float64\n",
            " 3   Month of sale     195 non-null    float64\n",
            " 4   Type of property  267 non-null    object \n",
            " 5   Property #        267 non-null    int64  \n",
            " 6   Area (ft.)        267 non-null    float64\n",
            " 7   Price             267 non-null    float64\n",
            " 8   Status            267 non-null    object \n",
            "dtypes: float64(4), int64(3), object(2)\n",
            "memory usage: 18.9+ KB\n",
            "None\n"
          ]
        }
      ]
    },
    {
      "cell_type": "code",
      "source": [
        "# ¿Cuántas propiedades hay en total en el conjunto de datos? Usa el método shape para obtener la forma de los datos.\n",
        "print(df.shape)"
      ],
      "metadata": {
        "colab": {
          "base_uri": "https://localhost:8080/"
        },
        "id": "xN8jRPGdMam7",
        "outputId": "67fa3ef0-137e-43ee-f2b2-967038516193"
      },
      "execution_count": 6,
      "outputs": [
        {
          "output_type": "stream",
          "name": "stdout",
          "text": [
            "(267, 9)\n"
          ]
        }
      ]
    },
    {
      "cell_type": "markdown",
      "source": [
        "3. Limpieza de datos"
      ],
      "metadata": {
        "id": "MF9MVuqTMqd-"
      }
    },
    {
      "cell_type": "code",
      "source": [
        "# Verifica si hay valores nulos (missing values) en alguna columna y cómo manejarlos.\n",
        "# Puedes usar isnull() y sum() para identificar valores nulos.\n",
        "print(df.isnull().sum())"
      ],
      "metadata": {
        "colab": {
          "base_uri": "https://localhost:8080/"
        },
        "id": "ZIbZL6UyMtaT",
        "outputId": "c639c45d-52c1-4153-a326-bf3e4fbec91f"
      },
      "execution_count": 7,
      "outputs": [
        {
          "output_type": "stream",
          "name": "stdout",
          "text": [
            "ID                   0\n",
            "Building Type        0\n",
            "Year of sale        72\n",
            "Month of sale       72\n",
            "Type of property     0\n",
            "Property #           0\n",
            "Area (ft.)           0\n",
            "Price                0\n",
            "Status               0\n",
            "dtype: int64\n"
          ]
        }
      ]
    },
    {
      "cell_type": "code",
      "source": [
        "# Si encuentras valores nulos, puedes optar por rellenarlos con la media o eliminar las filas que contienen datos faltantes.\n",
        "df['Year of sale'] = df['Year of sale'].fillna(df['Year of sale'].mean())"
      ],
      "metadata": {
        "id": "Tknhq7IIM7J_"
      },
      "execution_count": 10,
      "outputs": []
    },
    {
      "cell_type": "markdown",
      "source": [
        "4. Filtrado y manipulación de datos:"
      ],
      "metadata": {
        "id": "0DoFvsppNhts"
      }
    },
    {
      "cell_type": "code",
      "source": [
        "# Filtra todas las propiedades que tienen más de 100 m² de tamaño.\n",
        "df_grande = df[df['Area (ft.)'] > 100]"
      ],
      "metadata": {
        "id": "UPl_TKiPNg7M"
      },
      "execution_count": 12,
      "outputs": []
    },
    {
      "cell_type": "code",
      "source": [
        "# Calcula el precio medio de las propiedades por tipo (Casa o Apartamento).\n",
        "precio_promedio_por_tipo = df.groupby('Type of property')['Price'].mean()\n",
        "print(precio_promedio_por_tipo)"
      ],
      "metadata": {
        "colab": {
          "base_uri": "https://localhost:8080/"
        },
        "id": "6pp1wV9ZN3X4",
        "outputId": "30768708-0f34-43c2-d8ac-05bf049705d6"
      },
      "execution_count": 14,
      "outputs": [
        {
          "output_type": "stream",
          "name": "stdout",
          "text": [
            "Type of property\n",
            "Apartment    282.172264\n",
            "Office       248.785155\n",
            "Name: Price, dtype: float64\n"
          ]
        }
      ]
    },
    {
      "cell_type": "markdown",
      "source": [
        "5. Análisis exploratorio:"
      ],
      "metadata": {
        "id": "GpkrDKOeOIK4"
      }
    },
    {
      "cell_type": "code",
      "source": [
        "# Calcula la propiedad más cara y la más barata.\n",
        "propiedad_mas_cara = df.loc[df['Price'].idxmax()]\n",
        "propiedad_mas_barata = df.loc[df['Price'].idxmin()]\n",
        "print(f\"Propiedad más cara: {propiedad_mas_cara}\")\n",
        "print(f\"Propiedad más barata: {propiedad_mas_barata}\")"
      ],
      "metadata": {
        "colab": {
          "base_uri": "https://localhost:8080/"
        },
        "id": "Nf1rCrfqOKQI",
        "outputId": "7f1f771e-4682-4889-98b7-cc785795c8c6"
      },
      "execution_count": 15,
      "outputs": [
        {
          "output_type": "stream",
          "name": "stdout",
          "text": [
            "Propiedad más cara: ID                         2045\n",
            "Building Type                 2\n",
            "Year of sale        2006.333333\n",
            "Month of sale               NaN\n",
            "Type of property      Apartment\n",
            "Property #                   45\n",
            "Area (ft.)              1603.99\n",
            "Price                 538.27174\n",
            "Status                 Not Sold\n",
            "Name: 202, dtype: object\n",
            "Propiedad más barata: ID                       1005\n",
            "Building Type               1\n",
            "Year of sale           2004.0\n",
            "Month of sale             3.0\n",
            "Type of property       Office\n",
            "Property #                  5\n",
            "Area (ft.)             410.71\n",
            "Price               117.56407\n",
            "Status                  Sold \n",
            "Name: 179, dtype: object\n"
          ]
        }
      ]
    },
    {
      "cell_type": "code",
      "source": [
        "# Genera un gráfico simple de distribución del precio de las propiedades (puedes usar matplotlib o seaborn).\n",
        "df['Price'].hist(bins=50)\n",
        "plt.title('Distribución de Precios de Propiedades')\n",
        "plt.xlabel('Precio')\n",
        "plt.ylabel('Frecuencia')\n",
        "plt.show()"
      ],
      "metadata": {
        "colab": {
          "base_uri": "https://localhost:8080/",
          "height": 472
        },
        "id": "9O09vnYjOfFz",
        "outputId": "5f8d68a8-6b1d-4ee7-e358-30223463bcc2"
      },
      "execution_count": 17,
      "outputs": [
        {
          "output_type": "display_data",
          "data": {
            "text/plain": [
              "<Figure size 640x480 with 1 Axes>"
            ],
            "image/png": "[encoded data removed]"
          },
          "metadata": {}
        }
      ]
    },
    {
      "cell_type": "markdown",
      "source": [
        "Clase: Inteligencia Artificial y Redes Neuronales\n",
        "PE: Ingeniería en Mecatrónica"
      ],
      "metadata": {
        "id": "rPdKJ4GvQS4I"
      }
    }
  ]
}
