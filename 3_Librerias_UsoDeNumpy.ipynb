{
  "nbformat": 4,
  "nbformat_minor": 0,
  "metadata": {
    "colab": {
      "provenance": [],
      "authorship_tag": "ABX9TyMl7jLDvo/ggocpePSUTUvM",
      "include_colab_link": true
    },
    "kernelspec": {
      "name": "python3",
      "display_name": "Python 3"
    },
    "language_info": {
      "name": "python"
    }
  },
  "cells": [
    {
      "cell_type": "markdown",
      "metadata": {
        "id": "view-in-github",
        "colab_type": "text"
      },
      "source": [
        "<a href=\"https://colab.research.google.com/github/dilp90/InteligenciaArtificial_y_RedesNeuronales_UANL_FIME/blob/main/3_Librerias_UsoDeNumpy.ipynb\" target=\"_parent\"><img src=\"https://colab.research.google.com/assets/colab-badge.svg\" alt=\"Open In Colab\"/></a>"
      ]
    },
    {
      "cell_type": "markdown",
      "source": [
        "# **Tutorial para librería Numpy**\n",
        "\n",
        "NumPy es el paquete fundamental para la computación científica en Python. Es una biblioteca de Python que proporciona un objeto de matriz multidimensional, varios objetos derivados (como matrices y matrices enmascaradas) y una variedad de rutinas para operaciones rápidas en matrices, incluidas operaciones matemáticas, lógicas, manipulación de formas, ordenamiento, selección, E/S, transformadas discretas de Fourier, álgebra lineal básica, operaciones estadísticas básicas, simulación aleatoria y mucho más.\n",
        "\n",
        "En el núcleo del paquete NumPy se encuentra el objeto `ndarray`. Este encapsula matrices n-dimensionales de tipos de datos homogéneos, y muchas operaciones se realizan en código compilado para mejorar el rendimiento."
      ],
      "metadata": {
        "id": "v6bNQ5vOUo6Z"
      }
    },
    {
      "cell_type": "markdown",
      "source": [
        "**Ejercicio**:  \n",
        "\n",
        "Manipulación y análisis de matrices con NumPy para Inteligencia Artificial\n",
        "\n",
        "**Objetivo:**\n",
        "\n",
        "Familiarizarse con el uso de NumPy para la manipulación y análisis de matrices, librería que facilita el trabajo con grandes volúmenes de datos y redes neuronales en proyectos de inteligencia artificial."
      ],
      "metadata": {
        "id": "kYp3Q3UWVu7p"
      }
    },
    {
      "cell_type": "markdown",
      "source": [
        "**1. Importar librerías**"
      ],
      "metadata": {
        "id": "JzNOnD7WWa1i"
      }
    },
    {
      "cell_type": "code",
      "source": [
        "import numpy as np"
      ],
      "metadata": {
        "id": "7GglgPfdUqzi"
      },
      "execution_count": 1,
      "outputs": []
    },
    {
      "cell_type": "markdown",
      "source": [
        "**2. Crear y explorar matrices:**\n",
        "\n",
        "* Crea una matriz de 3x3 con valores aleatorios entre 0 y 1:"
      ],
      "metadata": {
        "id": "HiMkAMvpWfbu"
      }
    },
    {
      "cell_type": "code",
      "execution_count": 2,
      "metadata": {
        "colab": {
          "base_uri": "https://localhost:8080/"
        },
        "id": "nKHQc7q7UlSL",
        "outputId": "0119d4cd-42f1-4bce-c91c-395886471d3d"
      },
      "outputs": [
        {
          "output_type": "stream",
          "name": "stdout",
          "text": [
            "Matriz A:\n",
            "[[0.34663689 0.36154821 0.02425528]\n",
            " [0.41466461 0.31079971 0.98385883]\n",
            " [0.64758071 0.40953878 0.94821872]]\n"
          ]
        }
      ],
      "source": [
        "matrix_a = np.random.rand(3, 3)\n",
        "print(\"Matriz A:\")\n",
        "print(matrix_a)"
      ]
    },
    {
      "cell_type": "markdown",
      "source": [
        "* Crea una matriz identidad de tamaño 3x3:"
      ],
      "metadata": {
        "id": "nnpWr5ymWwi9"
      }
    },
    {
      "cell_type": "code",
      "source": [
        "identity_matrix = np.eye(3)\n",
        "print(\"Matriz Identidad:\")\n",
        "print(identity_matrix)"
      ],
      "metadata": {
        "colab": {
          "base_uri": "https://localhost:8080/"
        },
        "id": "9HBHcz2YWyn0",
        "outputId": "7d0624f3-1828-4b4d-8fc6-237982aad07d"
      },
      "execution_count": 3,
      "outputs": [
        {
          "output_type": "stream",
          "name": "stdout",
          "text": [
            "Matriz Identidad:\n",
            "[[1. 0. 0.]\n",
            " [0. 1. 0.]\n",
            " [0. 0. 1.]]\n"
          ]
        }
      ]
    },
    {
      "cell_type": "markdown",
      "source": [
        "* Crea una matriz de unos de tamaño 2x4:"
      ],
      "metadata": {
        "id": "2Xi9fdTQW-oD"
      }
    },
    {
      "cell_type": "code",
      "source": [
        "ones_matrix = np.ones((2, 4))\n",
        "print(\"Matriz de Unos:\")\n",
        "print(ones_matrix)"
      ],
      "metadata": {
        "colab": {
          "base_uri": "https://localhost:8080/"
        },
        "id": "TKk_PGJIXBJ0",
        "outputId": "091c08cb-22cf-4b51-b8ca-aa43b0b30f63"
      },
      "execution_count": 4,
      "outputs": [
        {
          "output_type": "stream",
          "name": "stdout",
          "text": [
            "Matriz de Unos:\n",
            "[[1. 1. 1. 1.]\n",
            " [1. 1. 1. 1.]]\n"
          ]
        }
      ]
    },
    {
      "cell_type": "markdown",
      "source": [
        "3. Operaciones básicas de matrices:\n",
        "\n",
        "* Suma de matrices: Crea otra matriz de 3x3 y súmala con la primera:"
      ],
      "metadata": {
        "id": "fgwxDU6GXDmj"
      }
    },
    {
      "cell_type": "code",
      "source": [
        "matrix_b = np.random.rand(3, 3)\n",
        "sum_matrix = matrix_a + matrix_b\n",
        "print(\"Suma de Matrices A y B:\")\n",
        "print(sum_matrix)"
      ],
      "metadata": {
        "colab": {
          "base_uri": "https://localhost:8080/"
        },
        "id": "97dcGMU6YnJM",
        "outputId": "1decce84-916b-4ccf-cc95-ee2e9168999e"
      },
      "execution_count": 5,
      "outputs": [
        {
          "output_type": "stream",
          "name": "stdout",
          "text": [
            "Suma de Matrices A y B:\n",
            "[[1.34379384 0.68205732 0.91700607]\n",
            " [0.82910528 1.13642545 1.68640504]\n",
            " [0.67994925 1.15680957 1.25162641]]\n"
          ]
        }
      ]
    },
    {
      "cell_type": "markdown",
      "source": [
        "* Producto de matrices (multiplicación de matrices):"
      ],
      "metadata": {
        "id": "gHno6DBrYuxo"
      }
    },
    {
      "cell_type": "code",
      "source": [
        "product_matrix = np.dot(matrix_a, matrix_b)\n",
        "print(\"Producto de Matrices A y B:\")\n",
        "print(product_matrix)"
      ],
      "metadata": {
        "colab": {
          "base_uri": "https://localhost:8080/"
        },
        "id": "u3yZEiEaYv1_",
        "outputId": "8a11219a-2f4f-415c-ff25-79abeaf9d4a9"
      },
      "execution_count": 6,
      "outputs": [
        {
          "output_type": "stream",
          "name": "stdout",
          "text": [
            "Producto de Matrices A y B:\n",
            "[[0.49627677 0.42772905 0.57082392]\n",
            " [0.5741398  1.124717   0.88705365]\n",
            " [0.84616158 1.25425744 1.15354496]]\n"
          ]
        }
      ]
    },
    {
      "cell_type": "markdown",
      "source": [
        "* Transposición de una matriz:"
      ],
      "metadata": {
        "id": "7PPPVddKY0C9"
      }
    },
    {
      "cell_type": "code",
      "source": [
        "transposed_matrix = np.transpose(matrix_a)\n",
        "print(\"Matriz Transpuesta de A:\")\n",
        "print(transposed_matrix)"
      ],
      "metadata": {
        "colab": {
          "base_uri": "https://localhost:8080/"
        },
        "id": "uf0YEqMJY097",
        "outputId": "5764e8e8-8f84-486b-dcec-6a76882603c9"
      },
      "execution_count": 7,
      "outputs": [
        {
          "output_type": "stream",
          "name": "stdout",
          "text": [
            "Matriz Transpuesta de A:\n",
            "[[0.34663689 0.41466461 0.64758071]\n",
            " [0.36154821 0.31079971 0.40953878]\n",
            " [0.02425528 0.98385883 0.94821872]]\n"
          ]
        }
      ]
    },
    {
      "cell_type": "markdown",
      "source": [
        "4. Acceso y manipulación de elementos:\n",
        "\n",
        "* Accede al elemento en la fila 2, columna 3 de `matrix_a`:"
      ],
      "metadata": {
        "id": "tmutZJ92Y2wk"
      }
    },
    {
      "cell_type": "code",
      "source": [
        "element = matrix_a[1, 2]  # Recuerda que el índice empieza desde 0\n",
        "print(\"Elemento en fila 2, columna 3 de A:\", element)"
      ],
      "metadata": {
        "colab": {
          "base_uri": "https://localhost:8080/"
        },
        "id": "_LWsxCSrY56_",
        "outputId": "994cb03b-44c8-44c6-b74c-e989e68586ec"
      },
      "execution_count": 8,
      "outputs": [
        {
          "output_type": "stream",
          "name": "stdout",
          "text": [
            "Elemento en fila 2, columna 3 de A: 0.9838588333370378\n"
          ]
        }
      ]
    },
    {
      "cell_type": "markdown",
      "source": [
        "* Cambia el valor en la fila 1, columna 2 de matrix_a a 5:"
      ],
      "metadata": {
        "id": "lLZeX_2tZLO8"
      }
    },
    {
      "cell_type": "code",
      "source": [
        "matrix_a[0, 1] = 5\n",
        "print(\"Matriz A con valor modificado:\")\n",
        "print(matrix_a)"
      ],
      "metadata": {
        "colab": {
          "base_uri": "https://localhost:8080/"
        },
        "id": "1CNIaTyDZMVb",
        "outputId": "0b31443b-c067-4cd5-b42b-aeda127f3c2b"
      },
      "execution_count": 9,
      "outputs": [
        {
          "output_type": "stream",
          "name": "stdout",
          "text": [
            "Matriz A con valor modificado:\n",
            "[[0.34663689 5.         0.02425528]\n",
            " [0.41466461 0.31079971 0.98385883]\n",
            " [0.64758071 0.40953878 0.94821872]]\n"
          ]
        }
      ]
    },
    {
      "cell_type": "markdown",
      "source": [
        "5. Operaciones estadísticas:\n",
        "\n",
        "* Calcula el valor máximo, mínimo y la media de la matriz `matrix_a`:"
      ],
      "metadata": {
        "id": "RB1lkMWkZPhb"
      }
    },
    {
      "cell_type": "code",
      "source": [
        "print(\"Valor máximo de A:\", np.max(matrix_a))\n",
        "print(\"Valor mínimo de A:\", np.min(matrix_a))\n",
        "print(\"Media de A:\", np.mean(matrix_a))"
      ],
      "metadata": {
        "colab": {
          "base_uri": "https://localhost:8080/"
        },
        "id": "NSKlY9QCZRhl",
        "outputId": "41d544ff-d5f6-48bb-d979-be4c8c3601d1"
      },
      "execution_count": 10,
      "outputs": [
        {
          "output_type": "stream",
          "name": "stdout",
          "text": [
            "Valor máximo de A: 5.0\n",
            "Valor mínimo de A: 0.02425528315519132\n",
            "Media de A: 1.009505949590808\n"
          ]
        }
      ]
    },
    {
      "cell_type": "markdown",
      "source": [
        "6. Reducción de dimensiones:\n",
        "\n",
        "* Convierte una matriz 2D (3x3) en un vector (1D) de 9 elementos:"
      ],
      "metadata": {
        "id": "AAjQuiBDZWut"
      }
    },
    {
      "cell_type": "code",
      "source": [
        "flattened_matrix = matrix_a.flatten()\n",
        "print(\"Matriz A a vector 1D:\")\n",
        "print(flattened_matrix)"
      ],
      "metadata": {
        "colab": {
          "base_uri": "https://localhost:8080/"
        },
        "id": "URN9SkfSZZ3T",
        "outputId": "cf2acc1a-1e3d-44d1-d915-ddf6b19318b4"
      },
      "execution_count": 11,
      "outputs": [
        {
          "output_type": "stream",
          "name": "stdout",
          "text": [
            "Matriz A a vector 1D:\n",
            "[0.34663689 5.         0.02425528 0.41466461 0.31079971 0.98385883\n",
            " 0.64758071 0.40953878 0.94821872]\n"
          ]
        }
      ]
    },
    {
      "cell_type": "markdown",
      "source": [
        "7. Aplicaciones prácticas para AI:\n",
        "\n",
        "* *Normalización de Datos*: Supón que tienes un conjunto de datos con características (por ejemplo, una matriz de características de 3x3). Normaliza los valores de cada columna para que tengan una media de 0 y una desviación estándar de 1."
      ],
      "metadata": {
        "id": "-23EngpOZetg"
      }
    },
    {
      "cell_type": "code",
      "source": [
        "data = np.random.rand(3, 3) * 100  # Datos aleatorios\n",
        "print(\"Datos originales:\")\n",
        "print(data)\n",
        "\n",
        "normalized_data = (data - np.mean(data, axis=0)) / np.std(data, axis=0)\n",
        "print(\"Datos normalizados:\")\n",
        "print(normalized_data)"
      ],
      "metadata": {
        "colab": {
          "base_uri": "https://localhost:8080/"
        },
        "id": "G60cX7M7Zm34",
        "outputId": "64ffb310-01b7-4501-8cb1-5a8d042fbf07"
      },
      "execution_count": 12,
      "outputs": [
        {
          "output_type": "stream",
          "name": "stdout",
          "text": [
            "Datos originales:\n",
            "[[53.7929529  74.99463647 22.20972195]\n",
            " [99.50645331 43.62150664 11.51662698]\n",
            " [87.23984444 10.53604288 73.17874057]]\n",
            "Datos normalizados:\n",
            "[[-1.36587247  1.21375706 -0.49900893]\n",
            " [ 1.00041742  0.02168757 -0.89646349]\n",
            " [ 0.36545505 -1.23544463  1.39547243]]\n"
          ]
        }
      ]
    },
    {
      "cell_type": "markdown",
      "source": [
        "Fuentes:\n",
        "\n",
        "*   https://numpy.org/devdocs/user/whatisnumpy.html#whatisnumpy\n",
        "\n",
        "\n",
        "\n",
        "\n",
        "\n",
        "M.Sc. Daniel I. Lopez-Paez\n",
        "\n",
        "Clase: Inteligencia Artificial y Redes Neuronales\n",
        "\n",
        "PE: Ingeniería en Mecatrónica\n",
        "\n",
        "FIME-UANL"
      ],
      "metadata": {
        "id": "5HV-wHEuVauF"
      }
    }
  ]
}